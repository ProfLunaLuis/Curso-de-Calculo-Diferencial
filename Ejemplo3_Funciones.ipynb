{
  "nbformat": 4,
  "nbformat_minor": 0,
  "metadata": {
    "colab": {
      "name": "Untitled3.ipynb",
      "provenance": [],
      "authorship_tag": "ABX9TyMY0gY/RbCefnxhAJkTJHau",
      "include_colab_link": true
    },
    "kernelspec": {
      "name": "python3",
      "display_name": "Python 3"
    },
    "language_info": {
      "name": "python"
    }
  },
  "cells": [
    {
      "cell_type": "markdown",
      "metadata": {
        "id": "view-in-github",
        "colab_type": "text"
      },
      "source": [
        "<a href=\"https://colab.research.google.com/github/ProfLunaLuis/Curso-de-Calculo-Diferencial/blob/main/Ejemplo3_Funciones.ipynb\" target=\"_parent\"><img src=\"https://colab.research.google.com/assets/colab-badge.svg\" alt=\"Open In Colab\"/></a>"
      ]
    },
    {
      "cell_type": "code",
      "execution_count": 19,
      "metadata": {
        "id": "hGB5l99QJZ4u",
        "colab": {
          "base_uri": "https://localhost:8080/",
          "height": 297
        },
        "outputId": "4a7d4df6-694d-4ca1-e9c6-bf49b4a9c202"
      },
      "outputs": [
        {
          "output_type": "display_data",
          "data": {
            "text/plain": [
              "<Figure size 432x288 with 1 Axes>"
            ],
            "image/png": "[encoded data removed]"
          },
          "metadata": {
            "needs_background": "light"
          }
        },
        {
          "output_type": "stream",
          "name": "stdout",
          "text": [
            "[-2, 0, 2]\n"
          ]
        }
      ],
      "source": [
        "#Ejemplo 3 \n",
        "#Grafica de funciones \n",
        "#Calculo diferencial\n",
        "from sympy.solvers import solve\n",
        "from sympy import Symbol\n",
        "import matplotlib.pyplot as plt\n",
        "import numpy as np\n",
        "x = np.linspace(-4,4,100)\n",
        "y = 2*x**3-x\n",
        "plt.plot(x, y, '-b')\n",
        "#plt.title('Graph of y=2x+1')\n",
        "plt.xlabel('x')\n",
        "plt.ylabel('y')\n",
        "plt.legend(loc='upper left')\n",
        "plt.grid()\n",
        "plt.show()\n",
        "#Codigo para encontrar la solucion\n",
        "x = Symbol('x')\n",
        "print(solve(2*x**3-x, x))"
      ]
    }
  ]
}